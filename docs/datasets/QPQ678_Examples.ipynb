{
 "cells": [
  {
   "cell_type": "code",
   "execution_count": 1,
   "metadata": {},
   "outputs": [
    {
     "name": "stdout",
     "output_type": "stream",
     "text": [
      "read_sets: Using set file -- \n",
      "  /home/smailagic/linetools/linetools/lists/sets/llist_v1.2.ascii\n",
      "Loading abundances from Asplund2009\n",
      "Abundances are relative by number on a logarithmic scale with H=12\n"
     ]
    },
    {
     "name": "stderr",
     "output_type": "stream",
     "text": [
      "/home/smailagic/linetools/linetools/lists/linelist.py:402: RuntimeWarning: divide by zero encountered in log10\n",
      "  self._extra_table['log(w*f)'] = np.log10(qm_strength)\n"
     ]
    }
   ],
   "source": [
    "from pyigm.cgm import qpq as qpq"
   ]
  },
  {
   "cell_type": "markdown",
   "metadata": {},
   "source": [
    "### Load QPQs"
   ]
  },
  {
   "cell_type": "code",
   "execution_count": 2,
   "metadata": {
    "scrolled": true
   },
   "outputs": [
    {
     "name": "stderr",
     "output_type": "stream",
     "text": [
      "/home/smailagic/linetools/linetools/lists/linelist.py:402: RuntimeWarning: divide by zero encountered in log10\n",
      "  self._extra_table['log(w*f)'] = np.log10(qm_strength)\n"
     ]
    },
    {
     "name": "stdout",
     "output_type": "stream",
     "text": [
      "Loading abundances from Asplund2009\n",
      "Abundances are relative by number on a logarithmic scale with H=12\n"
     ]
    },
    {
     "name": "stderr",
     "output_type": "stream",
     "text": [
      "/home/smailagic/linetools/linetools/lists/linelist.py:402: RuntimeWarning: divide by zero encountered in log10\n",
      "  self._extra_table['log(w*f)'] = np.log10(qm_strength)\n",
      "/home/smailagic/linetools/linetools/spectralline.py:214: UserWarning: Redshift not input.  Setting to 0 for zLimits\n",
      "  warnings.warn(\"Redshift not input.  Setting to 0 for zLimits\")\n"
     ]
    },
    {
     "name": "stdout",
     "output_type": "stream",
     "text": [
      "Loading abundances from Asplund2009\n",
      "Abundances are relative by number on a logarithmic scale with H=12\n"
     ]
    },
    {
     "name": "stderr",
     "output_type": "stream",
     "text": [
      "/home/smailagic/linetools/linetools/lists/linelist.py:402: RuntimeWarning: divide by zero encountered in log10\n",
      "  self._extra_table['log(w*f)'] = np.log10(qm_strength)\n"
     ]
    },
    {
     "name": "stdout",
     "output_type": "stream",
     "text": [
      "Loading abundances from Asplund2009\n",
      "Abundances are relative by number on a logarithmic scale with H=12\n"
     ]
    },
    {
     "name": "stderr",
     "output_type": "stream",
     "text": [
      "/home/smailagic/linetools/linetools/lists/linelist.py:402: RuntimeWarning: divide by zero encountered in log10\n",
      "  self._extra_table['log(w*f)'] = np.log10(qm_strength)\n",
      "/home/smailagic/linetools/linetools/spectralline.py:214: UserWarning: Redshift not input.  Setting to 0 for zLimits\n",
      "  warnings.warn(\"Redshift not input.  Setting to 0 for zLimits\")\n"
     ]
    },
    {
     "name": "stdout",
     "output_type": "stream",
     "text": [
      "Loading abundances from Asplund2009\n",
      "Abundances are relative by number on a logarithmic scale with H=12\n"
     ]
    },
    {
     "name": "stderr",
     "output_type": "stream",
     "text": [
      "/home/smailagic/linetools/linetools/lists/linelist.py:402: RuntimeWarning: divide by zero encountered in log10\n",
      "  self._extra_table['log(w*f)'] = np.log10(qm_strength)\n"
     ]
    },
    {
     "name": "stdout",
     "output_type": "stream",
     "text": [
      "Loading abundances from Asplund2009\n",
      "Abundances are relative by number on a logarithmic scale with H=12\n"
     ]
    },
    {
     "name": "stderr",
     "output_type": "stream",
     "text": [
      "/home/smailagic/linetools/linetools/lists/linelist.py:402: RuntimeWarning: divide by zero encountered in log10\n",
      "  self._extra_table['log(w*f)'] = np.log10(qm_strength)\n",
      "/home/smailagic/linetools/linetools/spectralline.py:214: UserWarning: Redshift not input.  Setting to 0 for zLimits\n",
      "  warnings.warn(\"Redshift not input.  Setting to 0 for zLimits\")\n"
     ]
    },
    {
     "name": "stdout",
     "output_type": "stream",
     "text": [
      "Loading abundances from Asplund2009\n",
      "Abundances are relative by number on a logarithmic scale with H=12\n"
     ]
    },
    {
     "name": "stderr",
     "output_type": "stream",
     "text": [
      "/home/smailagic/linetools/linetools/lists/linelist.py:402: RuntimeWarning: divide by zero encountered in log10\n",
      "  self._extra_table['log(w*f)'] = np.log10(qm_strength)\n"
     ]
    },
    {
     "name": "stdout",
     "output_type": "stream",
     "text": [
      "Loading abundances from Asplund2009\n",
      "Abundances are relative by number on a logarithmic scale with H=12\n"
     ]
    },
    {
     "name": "stderr",
     "output_type": "stream",
     "text": [
      "/home/smailagic/linetools/linetools/lists/linelist.py:402: RuntimeWarning: divide by zero encountered in log10\n",
      "  self._extra_table['log(w*f)'] = np.log10(qm_strength)\n",
      "/home/smailagic/linetools/linetools/spectralline.py:214: UserWarning: Redshift not input.  Setting to 0 for zLimits\n",
      "  warnings.warn(\"Redshift not input.  Setting to 0 for zLimits\")\n"
     ]
    },
    {
     "name": "stdout",
     "output_type": "stream",
     "text": [
      "Loading abundances from Asplund2009\n",
      "Abundances are relative by number on a logarithmic scale with H=12\n"
     ]
    }
   ],
   "source": [
    "qpq5 = qpq.QPQ5().survey_data\n",
    "qpq6 = qpq.QPQ6().survey_data\n",
    "qpq7 = qpq.QPQ7().survey_data\n",
    "qpq8 = qpq.QPQ8().survey_data"
   ]
  },
  {
   "cell_type": "code",
   "execution_count": 3,
   "metadata": {},
   "outputs": [
    {
     "data": {
      "text/plain": [
       "<CGM_Survey:  nsys=427, ref=>"
      ]
     },
     "execution_count": 3,
     "metadata": {},
     "output_type": "execute_result"
    }
   ],
   "source": [
    "qpq7"
   ]
  },
  {
   "cell_type": "code",
   "execution_count": 4,
   "metadata": {},
   "outputs": [
    {
     "data": {
      "text/plain": [
       "array([<Galaxy: J000211.7688-052908.4859 00:02:11.7688 -05:29:08.4859, z=2.819>,\n",
       "       <Galaxy: J000426.43+005703.5887 00:04:26.43 +00:57:03.5887, z=2.81225>,\n",
       "       <Galaxy: J000536.2925+000922.7864 00:05:36.2925 +00:09:22.7864, z=2.52243>], dtype=object)"
      ]
     },
     "execution_count": 4,
     "metadata": {},
     "output_type": "execute_result"
    }
   ],
   "source": [
    "qpq7.galaxy[0:3]"
   ]
  },
  {
   "cell_type": "code",
   "execution_count": 5,
   "metadata": {},
   "outputs": [
    {
     "data": {
      "text/plain": [
       "[<CGMAbsSys: SDSSJ0002-0529 Galaxy RA/DEC=00:02:11.7688-05:29:08.4859, zgal=2.819, rho=768.469 kpc>,\n",
       " <CGMAbsSys: BOSSJ0004+0057 Galaxy RA/DEC=00:04:26.43+00:57:03.5887, zgal=2.81225, rho=881.583 kpc>,\n",
       " <CGMAbsSys: BOSSJ0005+0009 Galaxy RA/DEC=00:05:36.2925+00:09:22.7864, zgal=2.52243, rho=725.418 kpc>]"
      ]
     },
     "execution_count": 5,
     "metadata": {},
     "output_type": "execute_result"
    }
   ],
   "source": [
    "qpq7.cgm_abs[0:3]"
   ]
  },
  {
   "cell_type": "markdown",
   "metadata": {},
   "source": [
    "### Tables with transitions"
   ]
  },
  {
   "cell_type": "code",
   "execution_count": 6,
   "metadata": {
    "scrolled": true
   },
   "outputs": [
    {
     "name": "stderr",
     "output_type": "stream",
     "text": [
      "/home/smailagic/linetools/linetools/isgm/abssystem.py:349: FutureWarning: elementwise comparison failed; returning scalar instead, but in the future will perform elementwise comparison\n",
      "  mt = np.where(names == inp)[0]\n",
      "/home/smailagic/linetools/linetools/isgm/abssystem.py:357: UserWarning: No absline with input=HI 1215\n",
      "  warnings.warn(\"No absline with input={}\".format(inp))\n"
     ]
    },
    {
     "data": {
      "text/html": [
       "&lt;Table length=646&gt;\n",
       "<table id=\"table139831487504112\" class=\"table-striped table-bordered table-condensed\">\n",
       "<thead><tr><th>sys</th><th>z</th><th>flag_EW</th><th>EW</th><th>sig_EW</th><th>flag_N</th><th>logN</th><th>sig_logN</th><th>cgm_name</th></tr></thead>\n",
       "<thead><tr><th>str31</th><th>int64</th><th>int64</th><th>float64</th><th>float64</th><th>int64</th><th>float64</th><th>float64</th><th>str14</th></tr></thead>\n",
       "<tr><td>J000216.6688-053007.6242_z2.819</td><td>0</td><td>1</td><td>1.28382790089</td><td>0.047347843647</td><td>0</td><td>0.0</td><td>0.0</td><td>SDSSJ0002-0529</td></tr>\n",
       "<tr><td>J000432.7655+005612.5046_z2.812</td><td>0</td><td>1</td><td>1.32959270477</td><td>0.112202093005</td><td>0</td><td>0.0</td><td>0.0</td><td>BOSSJ0004+0057</td></tr>\n",
       "<tr><td>J000531.3248+000838.9069_z2.522</td><td>0</td><td>1</td><td>1.5844758749</td><td>0.188918933272</td><td>0</td><td>0.0</td><td>0.0</td><td>BOSSJ0005+0009</td></tr>\n",
       "<tr><td>J000551.2514-031104.7867_z2.547</td><td>0</td><td>0</td><td>0.0</td><td>0.0</td><td>0</td><td>0.0</td><td>0.0</td><td>BOSSJ0005-0312</td></tr>\n",
       "<tr><td>J000633.3521-001453.3026_z2.333</td><td>0</td><td>1</td><td>1.62652552128</td><td>0.211154192686</td><td>0</td><td>0.0</td><td>0.0</td><td>BOSSJ0006-0015</td></tr>\n",
       "<tr><td>J000838.3024-005156.7984_z2.627</td><td>0</td><td>1</td><td>1.54812180996</td><td>0.0765336677432</td><td>0</td><td>0.0</td><td>0.0</td><td>BOSSJ0008-0053</td></tr>\n",
       "<tr><td>J001025.7328-005155.3894_z2.427</td><td>0</td><td>1</td><td>1.39518618584</td><td>0.10979321599</td><td>0</td><td>0.0</td><td>0.0</td><td>BOSSJ0010-0051</td></tr>\n",
       "<tr><td>J001250.4997+001204.0623_z2.157</td><td>0</td><td>0</td><td>0.0</td><td>0.0</td><td>0</td><td>0.0</td><td>0.0</td><td>SDSSJ0012+0012</td></tr>\n",
       "<tr><td>J001357.1495+012739.2775_z2.228</td><td>0</td><td>0</td><td>0.0</td><td>0.0</td><td>0</td><td>0.0</td><td>0.0</td><td>BOSSJ0013+0127</td></tr>\n",
       "<tr><td>J001607.2732+005653.0502_z2.402</td><td>0</td><td>0</td><td>0.0</td><td>0.0</td><td>0</td><td>0.0</td><td>0.0</td><td>BOSSJ0016+0056</td></tr>\n",
       "<tr><td>...</td><td>...</td><td>...</td><td>...</td><td>...</td><td>...</td><td>...</td><td>...</td><td>...</td></tr>\n",
       "<tr><td>J231502.5163-001239.7762_z2.556</td><td>0</td><td>1</td><td>1.01188588142</td><td>0.0828877240419</td><td>0</td><td>0.0</td><td>0.0</td><td>BOSSJ2314-0013</td></tr>\n",
       "<tr><td>J231846.0843-011319.4121_z2.714</td><td>0</td><td>0</td><td>0.0</td><td>0.0</td><td>0</td><td>0.0</td><td>0.0</td><td>BOSSJ2318-0114</td></tr>\n",
       "<tr><td>J232003.1528-030630.575_z2.355</td><td>0</td><td>0</td><td>0.0</td><td>0.0</td><td>0</td><td>0.0</td><td>0.0</td><td>BOSSJ2319-0307</td></tr>\n",
       "<tr><td>J232129.7245-015217.6589_z2.206</td><td>0</td><td>1</td><td>1.33214080334</td><td>0.0901824086905</td><td>0</td><td>0.0</td><td>0.0</td><td>BOSSJ2321-0153</td></tr>\n",
       "<tr><td>J232238.4879+005053.5291_z2.965</td><td>0</td><td>1</td><td>2.95220685005</td><td>0.210188388824</td><td>0</td><td>0.0</td><td>0.0</td><td>BOSSJ2322+0050</td></tr>\n",
       "<tr><td>J233647.9353+023836.7401_z2.510</td><td>0</td><td>1</td><td>2.64761066437</td><td>0.214739203453</td><td>0</td><td>0.0</td><td>0.0</td><td>BOSSJ2336+0237</td></tr>\n",
       "<tr><td>J233930.0052+003017.2788_z2.676</td><td>0</td><td>1</td><td>1.84086668491</td><td>0.034009527415</td><td>0</td><td>0.0</td><td>0.0</td><td>BOSSJ2339+0029</td></tr>\n",
       "<tr><td>J234703.2392+150101.4641_z2.162</td><td>0</td><td>1</td><td>2.13465332985</td><td>0.0325668714941</td><td>0</td><td>0.0</td><td>0.0</td><td>APOJ2347+1501</td></tr>\n",
       "<tr><td>J234748.3399+010918.8054_z3.011</td><td>0</td><td>0</td><td>0.0</td><td>0.0</td><td>0</td><td>0.0</td><td>0.0</td><td>BOSSJ2347+0108</td></tr>\n",
       "<tr><td>J235158.1897-013013.2063_z2.217</td><td>0</td><td>0</td><td>0.0</td><td>0.0</td><td>0</td><td>0.0</td><td>0.0</td><td>BOSSJ2351-0129</td></tr>\n",
       "</table>"
      ],
      "text/plain": [
       "<Table length=646>\n",
       "              sys                 z   flag_EW ... sig_logN    cgm_name   \n",
       "             str31              int64  int64  ... float64      str14     \n",
       "------------------------------- ----- ------- ... -------- --------------\n",
       "J000216.6688-053007.6242_z2.819     0       1 ...      0.0 SDSSJ0002-0529\n",
       "J000432.7655+005612.5046_z2.812     0       1 ...      0.0 BOSSJ0004+0057\n",
       "J000531.3248+000838.9069_z2.522     0       1 ...      0.0 BOSSJ0005+0009\n",
       "J000551.2514-031104.7867_z2.547     0       0 ...      0.0 BOSSJ0005-0312\n",
       "J000633.3521-001453.3026_z2.333     0       1 ...      0.0 BOSSJ0006-0015\n",
       "J000838.3024-005156.7984_z2.627     0       1 ...      0.0 BOSSJ0008-0053\n",
       "J001025.7328-005155.3894_z2.427     0       1 ...      0.0 BOSSJ0010-0051\n",
       "J001250.4997+001204.0623_z2.157     0       0 ...      0.0 SDSSJ0012+0012\n",
       "J001357.1495+012739.2775_z2.228     0       0 ...      0.0 BOSSJ0013+0127\n",
       "J001607.2732+005653.0502_z2.402     0       0 ...      0.0 BOSSJ0016+0056\n",
       "                            ...   ...     ... ...      ...            ...\n",
       "J231502.5163-001239.7762_z2.556     0       1 ...      0.0 BOSSJ2314-0013\n",
       "J231846.0843-011319.4121_z2.714     0       0 ...      0.0 BOSSJ2318-0114\n",
       " J232003.1528-030630.575_z2.355     0       0 ...      0.0 BOSSJ2319-0307\n",
       "J232129.7245-015217.6589_z2.206     0       1 ...      0.0 BOSSJ2321-0153\n",
       "J232238.4879+005053.5291_z2.965     0       1 ...      0.0 BOSSJ2322+0050\n",
       "J233647.9353+023836.7401_z2.510     0       1 ...      0.0 BOSSJ2336+0237\n",
       "J233930.0052+003017.2788_z2.676     0       1 ...      0.0 BOSSJ2339+0029\n",
       "J234703.2392+150101.4641_z2.162     0       1 ...      0.0 APOJ2347+1501 \n",
       "J234748.3399+010918.8054_z3.011     0       0 ...      0.0 BOSSJ2347+0108\n",
       "J235158.1897-013013.2063_z2.217     0       0 ...      0.0 BOSSJ2351-0129"
      ]
     },
     "execution_count": 6,
     "metadata": {},
     "output_type": "execute_result"
    }
   ],
   "source": [
    "trans = 'HI 1215'\n",
    "tab = qpq6.trans_tbl(trans)\n",
    "tab"
   ]
  },
  {
   "cell_type": "code",
   "execution_count": 7,
   "metadata": {
    "scrolled": true
   },
   "outputs": [
    {
     "name": "stderr",
     "output_type": "stream",
     "text": [
      "/home/smailagic/linetools/linetools/isgm/abssystem.py:357: UserWarning: No absline with input=MgII 2803\n",
      "  warnings.warn(\"No absline with input={}\".format(inp))\n"
     ]
    },
    {
     "data": {
      "text/html": [
       "&lt;Table length=427&gt;\n",
       "<table id=\"table139831487575824\" class=\"table-striped table-bordered table-condensed\">\n",
       "<thead><tr><th>sys</th><th>z</th><th>flag_EW</th><th>EW</th><th>sig_EW</th><th>flag_N</th><th>logN</th><th>sig_logN</th><th>cgm_name</th></tr></thead>\n",
       "<thead><tr><th>str31</th><th>int64</th><th>int64</th><th>float64</th><th>float64</th><th>int64</th><th>float64</th><th>float64</th><th>str14</th></tr></thead>\n",
       "<tr><td>J000216.6688-053007.6242_z2.819</td><td>0</td><td>0</td><td>0.0</td><td>0.0</td><td>0</td><td>0.0</td><td>0.0</td><td>SDSSJ0002-0529</td></tr>\n",
       "<tr><td>J000432.7655+005612.5046_z2.812</td><td>0</td><td>0</td><td>0.0</td><td>0.0</td><td>0</td><td>0.0</td><td>0.0</td><td>BOSSJ0004+0057</td></tr>\n",
       "<tr><td>J000531.3248+000838.9069_z2.522</td><td>0</td><td>0</td><td>0.0</td><td>0.0</td><td>0</td><td>0.0</td><td>0.0</td><td>BOSSJ0005+0009</td></tr>\n",
       "<tr><td>J000633.3521-001453.3026_z2.333</td><td>0</td><td>0</td><td>0.0</td><td>0.0</td><td>0</td><td>0.0</td><td>0.0</td><td>BOSSJ0006-0015</td></tr>\n",
       "<tr><td>J000838.3024-005156.7984_z2.627</td><td>0</td><td>0</td><td>0.0</td><td>0.0</td><td>0</td><td>0.0</td><td>0.0</td><td>BOSSJ0008-0053</td></tr>\n",
       "<tr><td>J001025.7328-005155.3894_z2.427</td><td>0</td><td>0</td><td>0.0</td><td>0.0</td><td>0</td><td>0.0</td><td>0.0</td><td>BOSSJ0010-0051</td></tr>\n",
       "<tr><td>J001634.3557-010622.7503_z3.536</td><td>0</td><td>0</td><td>0.0</td><td>0.0</td><td>0</td><td>0.0</td><td>0.0</td><td>BOSSJ0016-0104</td></tr>\n",
       "<tr><td>J001641.1721+010045.2793_z2.669</td><td>0</td><td>0</td><td>0.0</td><td>0.0</td><td>0</td><td>0.0</td><td>0.0</td><td>BOSSJ0016+0059</td></tr>\n",
       "<tr><td>J002123.8039-025210.9394_z2.691</td><td>0</td><td>0</td><td>0.0</td><td>0.0</td><td>0</td><td>0.0</td><td>0.0</td><td>BOSSJ0021-0252</td></tr>\n",
       "<tr><td>J002610.9225-010213.0801_z2.326</td><td>0</td><td>0</td><td>0.0</td><td>0.0</td><td>0</td><td>0.0</td><td>0.0</td><td>BOSSJ0026-0101</td></tr>\n",
       "<tr><td>...</td><td>...</td><td>...</td><td>...</td><td>...</td><td>...</td><td>...</td><td>...</td><td>...</td></tr>\n",
       "<tr><td>J224544.6928+004552.1082_z2.305</td><td>0</td><td>3</td><td>0.000941746053286</td><td>0.415232151747</td><td>0</td><td>0.0</td><td>0.0</td><td>BOSSJ2245+0046</td></tr>\n",
       "<tr><td>J225134.0713+041353.2314_z2.577</td><td>0</td><td>0</td><td>0.0</td><td>0.0</td><td>0</td><td>0.0</td><td>0.0</td><td>BOSSJ2251+0415</td></tr>\n",
       "<tr><td>J230017.9727+003045.5285_z2.179</td><td>0</td><td>0</td><td>0.0</td><td>0.0</td><td>0</td><td>0.0</td><td>0.0</td><td>SDSSJ2300+0031</td></tr>\n",
       "<tr><td>J230017.9727+003045.5285_z2.370</td><td>0</td><td>0</td><td>0.0</td><td>0.0</td><td>0</td><td>0.0</td><td>0.0</td><td>BOSSJ2300+0030</td></tr>\n",
       "<tr><td>J231502.5163-001239.7762_z2.556</td><td>0</td><td>0</td><td>0.0</td><td>0.0</td><td>0</td><td>0.0</td><td>0.0</td><td>BOSSJ2314-0013</td></tr>\n",
       "<tr><td>J232129.7245-015217.6589_z2.206</td><td>0</td><td>0</td><td>0.0</td><td>0.0</td><td>0</td><td>0.0</td><td>0.0</td><td>BOSSJ2321-0153</td></tr>\n",
       "<tr><td>J232238.4879+005053.5291_z2.965</td><td>0</td><td>0</td><td>0.0</td><td>0.0</td><td>0</td><td>0.0</td><td>0.0</td><td>BOSSJ2322+0050</td></tr>\n",
       "<tr><td>J233647.9353+023836.7401_z2.510</td><td>0</td><td>0</td><td>0.0</td><td>0.0</td><td>0</td><td>0.0</td><td>0.0</td><td>BOSSJ2336+0237</td></tr>\n",
       "<tr><td>J233930.0052+003017.2788_z2.676</td><td>0</td><td>0</td><td>0.0</td><td>0.0</td><td>0</td><td>0.0</td><td>0.0</td><td>BOSSJ2339+0029</td></tr>\n",
       "<tr><td>J234703.2392+150101.4641_z2.162</td><td>0</td><td>0</td><td>0.0</td><td>0.0</td><td>0</td><td>0.0</td><td>0.0</td><td>APOJ2347+1501</td></tr>\n",
       "</table>"
      ],
      "text/plain": [
       "<Table length=427>\n",
       "              sys                 z   flag_EW ... sig_logN    cgm_name   \n",
       "             str31              int64  int64  ... float64      str14     \n",
       "------------------------------- ----- ------- ... -------- --------------\n",
       "J000216.6688-053007.6242_z2.819     0       0 ...      0.0 SDSSJ0002-0529\n",
       "J000432.7655+005612.5046_z2.812     0       0 ...      0.0 BOSSJ0004+0057\n",
       "J000531.3248+000838.9069_z2.522     0       0 ...      0.0 BOSSJ0005+0009\n",
       "J000633.3521-001453.3026_z2.333     0       0 ...      0.0 BOSSJ0006-0015\n",
       "J000838.3024-005156.7984_z2.627     0       0 ...      0.0 BOSSJ0008-0053\n",
       "J001025.7328-005155.3894_z2.427     0       0 ...      0.0 BOSSJ0010-0051\n",
       "J001634.3557-010622.7503_z3.536     0       0 ...      0.0 BOSSJ0016-0104\n",
       "J001641.1721+010045.2793_z2.669     0       0 ...      0.0 BOSSJ0016+0059\n",
       "J002123.8039-025210.9394_z2.691     0       0 ...      0.0 BOSSJ0021-0252\n",
       "J002610.9225-010213.0801_z2.326     0       0 ...      0.0 BOSSJ0026-0101\n",
       "                            ...   ...     ... ...      ...            ...\n",
       "J224544.6928+004552.1082_z2.305     0       3 ...      0.0 BOSSJ2245+0046\n",
       "J225134.0713+041353.2314_z2.577     0       0 ...      0.0 BOSSJ2251+0415\n",
       "J230017.9727+003045.5285_z2.179     0       0 ...      0.0 SDSSJ2300+0031\n",
       "J230017.9727+003045.5285_z2.370     0       0 ...      0.0 BOSSJ2300+0030\n",
       "J231502.5163-001239.7762_z2.556     0       0 ...      0.0 BOSSJ2314-0013\n",
       "J232129.7245-015217.6589_z2.206     0       0 ...      0.0 BOSSJ2321-0153\n",
       "J232238.4879+005053.5291_z2.965     0       0 ...      0.0 BOSSJ2322+0050\n",
       "J233647.9353+023836.7401_z2.510     0       0 ...      0.0 BOSSJ2336+0237\n",
       "J233930.0052+003017.2788_z2.676     0       0 ...      0.0 BOSSJ2339+0029\n",
       "J234703.2392+150101.4641_z2.162     0       0 ...      0.0 APOJ2347+1501 "
      ]
     },
     "execution_count": 7,
     "metadata": {},
     "output_type": "execute_result"
    }
   ],
   "source": [
    "trans = 'MgII 2803'\n",
    "tab = qpq7.trans_tbl(trans)\n",
    "tab"
   ]
  },
  {
   "cell_type": "code",
   "execution_count": 8,
   "metadata": {
    "scrolled": true
   },
   "outputs": [],
   "source": [
    "# This option is not yet available, since QPQ8 pairs contain multiple components  \n",
    "#trans = 'AlII 1670'\n",
    "#tab = qpq8.trans_tbl(trans)\n",
    "#tab"
   ]
  },
  {
   "cell_type": "code",
   "execution_count": null,
   "metadata": {
    "collapsed": true
   },
   "outputs": [],
   "source": []
  }
 ],
 "metadata": {
  "kernelspec": {
   "display_name": "Python 3",
   "language": "python",
   "name": "python3"
  },
  "language_info": {
   "codemirror_mode": {
    "name": "ipython",
    "version": 3
   },
   "file_extension": ".py",
   "mimetype": "text/x-python",
   "name": "python",
   "nbconvert_exporter": "python",
   "pygments_lexer": "ipython3",
   "version": "3.6.3"
  }
 },
 "nbformat": 4,
 "nbformat_minor": 2
}
