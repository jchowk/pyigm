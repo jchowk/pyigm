{
 "cells": [
  {
   "cell_type": "markdown",
   "metadata": {},
   "source": [
    "# COS Halos Examples  [1.2]\n",
    "\n",
    "    v1.2 -- Metallicity PDF\n",
    "\n",
    "## See also the CGM_examples Notebook"
   ]
  },
  {
   "cell_type": "code",
   "execution_count": 1,
   "metadata": {
    "collapsed": true
   },
   "outputs": [],
   "source": [
    "# import\n",
    "import os\n",
    "from pkg_resources import resource_filename\n",
    "import numpy as np\n",
    "\n",
    "from astropy.table import Table\n",
    "from pyigm.cgm import cos_halos as pch\n",
    "from pyigm.metallicity import utils as pym_utils\n",
    "from pyigm.metallicity import pdf as pym_pdf"
   ]
  },
  {
   "cell_type": "markdown",
   "metadata": {},
   "source": [
    "## Load COS-Halos"
   ]
  },
  {
   "cell_type": "code",
   "execution_count": 2,
   "metadata": {},
   "outputs": [
    {
     "name": "stdout",
     "output_type": "stream",
     "text": [
      "read_sets: Using set file -- \n",
      "  /home/xavier/local/Python/linetools/linetools/lists/sets/llist_v1.2.ascii\n",
      "Loading abundances from Asplund2009\n",
      "Abundances are relative by number on a logarithmic scale with H=12\n",
      "Be patient, using /home/xavier/local/Python/pyigm/pyigm/data/CGM/COS_Halos/cos-halos_systems.v1.2.tar.gz to load\n",
      "Skipping a likely folder: CGM_JSON\n"
     ]
    }
   ],
   "source": [
    "cos_halos = pch.COSHalos()"
   ]
  },
  {
   "cell_type": "markdown",
   "metadata": {},
   "source": [
    "## Ion Table for the Survey"
   ]
  },
  {
   "cell_type": "code",
   "execution_count": 3,
   "metadata": {
    "collapsed": true
   },
   "outputs": [],
   "source": [
    "SiIII_tbl = cos_halos.ion_tbl((14,3))"
   ]
  },
  {
   "cell_type": "code",
   "execution_count": 4,
   "metadata": {},
   "outputs": [
    {
     "data": {
      "text/html": [
       "<i>Table masked=True length=44</i>\n",
       "<table id=\"table140047721839248\" class=\"table-striped table-bordered table-condensed\">\n",
       "<thead><tr><th>abssys_name</th><th>RA</th><th>DEC</th><th>comp_name</th><th>Z</th><th>ion</th><th>Ej</th><th>vmin</th><th>vmax</th><th>ion_name</th><th>flag_N</th><th>logN</th><th>sig_logN [2]</th><th>comment</th><th>reliability</th><th>z_sys</th><th>cgm_name</th><th>rho_impact</th></tr></thead>\n",
       "<thead><tr><th></th><th>deg</th><th>deg</th><th></th><th></th><th></th><th>1 / cm</th><th>km / s</th><th>km / s</th><th></th><th></th><th></th><th></th><th></th><th></th><th></th><th></th><th>kpc</th></tr></thead>\n",
       "<thead><tr><th>str25</th><th>float64</th><th>float64</th><th>str14</th><th>int64</th><th>int64</th><th>float64</th><th>float64</th><th>float64</th><th>str5</th><th>int64</th><th>float64</th><th>float64</th><th>str1</th><th>str4</th><th>float64</th><th>str17</th><th>float64</th></tr></thead>\n",
       "<tr><td>J101622.6+470643.3_z0.166</td><td>154.094166667</td><td>47.1120277778</td><td>SiIII_z0.16614</td><td>14</td><td>3</td><td>0.0</td><td>-277.0</td><td>215.0</td><td>SiIII</td><td>2</td><td>13.7450735369</td><td>7.73296365471e-13 .. 7.73296365471e-13</td><td></td><td>none</td><td>0.166137129068</td><td>J1016+4706_359_16</td><td>46.3230860579</td></tr>\n",
       "<tr><td>J094331.6+053131.5_z0.228</td><td>145.881666667</td><td>5.52541666667</td><td>SiIII_z0.22839</td><td>14</td><td>3</td><td>0.0</td><td>84.0</td><td>282.0</td><td>SiIII</td><td>1</td><td>12.8929235735</td><td>0.101090468466 .. 0.101090468466</td><td></td><td>none</td><td>0.228385850787</td><td>J0943+0531_106_34</td><td>125.213206561</td></tr>\n",
       "<tr><td>J143726.1+504555.8_z0.246</td><td>219.35875</td><td>50.7655</td><td>SiIII_z0.24600</td><td>14</td><td>3</td><td>0.0</td><td>-139.0</td><td>231.0</td><td>SiIII</td><td>3</td><td>12.8324415484</td><td>9.0 .. 9.0</td><td></td><td>none</td><td>0.245999068022</td><td>J1437+5045_317_38</td><td>146.804136085</td></tr>\n",
       "<tr><td>J141910.2+420746.9_z0.179</td><td>214.7925</td><td>42.1296944444</td><td>SiIII_z0.17925</td><td>14</td><td>3</td><td>0.0</td><td>-199.0</td><td>119.0</td><td>SiIII</td><td>2</td><td>13.2993624011</td><td>2.15802814694e-12 .. 2.15802814694e-12</td><td></td><td>none</td><td>0.179248124361</td><td>J1419+4207_132_30</td><td>92.6211417336</td></tr>\n",
       "<tr><td>J134251.6-005345.3_z0.201</td><td>205.715</td><td>-0.895916666667</td><td>SiIII_z0.20127</td><td>14</td><td>3</td><td>0.0</td><td>-173.0</td><td>217.0</td><td>SiIII</td><td>3</td><td>12.3784010211</td><td>9.0 .. 9.0</td><td></td><td>none</td><td>0.201268032193</td><td>J1342-0053_77_10</td><td>32.4766199825</td></tr>\n",
       "<tr><td>J234500.4-005936.1_z0.254</td><td>356.251666667</td><td>-0.993361111111</td><td>SiIII_z0.25389</td><td>14</td><td>3</td><td>0.0</td><td>0.0</td><td>143.0</td><td>SiIII</td><td>0</td><td>13.0512506762</td><td>0.0579742640257 .. 0.0579742640257</td><td></td><td>none</td><td>0.253890156746</td><td>J2345-0059_356_12</td><td>48.8755338361</td></tr>\n",
       "<tr><td>J143511.5+360437.2_z0.262</td><td>218.797916667</td><td>36.077</td><td>SiIII_z0.26226</td><td>14</td><td>3</td><td>0.0</td><td>-100.0</td><td>180.0</td><td>SiIII</td><td>1</td><td>12.8490268984</td><td>0.0965169742703 .. 0.0965169742703</td><td></td><td>none</td><td>0.262260317802</td><td>J1435+3604_126_21</td><td>86.9085194245</td></tr>\n",
       "<tr><td>J094331.6+053131.5_z0.353</td><td>145.881666667</td><td>5.52541666667</td><td>SiIII_z0.35295</td><td>14</td><td>3</td><td>0.0</td><td>-50.0</td><td>450.0</td><td>SiIII</td><td>3</td><td>12.9781400958</td><td>9.0 .. 9.0</td><td></td><td>none</td><td>0.352951705456</td><td>J0943+0531_227_19</td><td>97.1117436511</td></tr>\n",
       "<tr><td>J134251.6-005345.3_z0.227</td><td>205.715</td><td>-0.895916666667</td><td>SiIII_z0.22702</td><td>14</td><td>3</td><td>0.0</td><td>-125.0</td><td>288.0</td><td>SiIII</td><td>2</td><td>13.9903766909</td><td>4.3958494985e-13 .. --</td><td></td><td>none</td><td>0.227016583085</td><td>J1342-0053_157_10</td><td>35.560506473</td></tr>\n",
       "<tr><td>...</td><td>...</td><td>...</td><td>...</td><td>...</td><td>...</td><td>...</td><td>...</td><td>...</td><td>...</td><td>...</td><td>...</td><td>...</td><td>...</td><td>...</td><td>...</td><td>...</td><td>...</td></tr>\n",
       "<tr><td>J122035.1+385316.4_z0.274</td><td>185.14625</td><td>38.8878888889</td><td>SiIII_z0.27371</td><td>14</td><td>3</td><td>0.0</td><td>-365.0</td><td>82.0</td><td>SiIII</td><td>2</td><td>13.5182249346</td><td>1.30375075001e-12 .. 1.30375075001e-12</td><td></td><td>none</td><td>0.27371302247</td><td>J1220+3853_225_38</td><td>159.423036699</td></tr>\n",
       "<tr><td>J113327.8+032719.2_z0.237</td><td>173.365833333</td><td>3.45533333333</td><td>SiIII_z0.23670</td><td>14</td><td>3</td><td>0.0</td><td>30.9999999999</td><td>457.0</td><td>SiIII</td><td>2</td><td>13.6223852435</td><td>1.02573284535e-12 .. 1.02573284535e-12</td><td></td><td>none</td><td>0.236700639129</td><td>J1133+0327_110_5</td><td>17.1918162178</td></tr>\n",
       "<tr><td>J040149-054056.6_z0.220</td><td>60.4541666667</td><td>-5.68238888889</td><td>SiIII_z0.21969</td><td>14</td><td>3</td><td>0.0</td><td>-131.0</td><td>30.0000000001</td><td>SiIII</td><td>1</td><td>12.8839304247</td><td>0.0589624978602 .. --</td><td></td><td>none</td><td>0.21968537569</td><td>J0401-0540_67_24</td><td>86.4954994704</td></tr>\n",
       "<tr><td>J094331.6+053131.5_z0.143</td><td>145.881666667</td><td>5.52541666667</td><td>SiIII_z0.14311</td><td>14</td><td>3</td><td>0.0</td><td>-186.0</td><td>62.0</td><td>SiIII</td><td>3</td><td>12.5719415942</td><td>9.0 .. 9.0</td><td></td><td>none</td><td>0.14311170578</td><td>J0943+0531_216_61</td><td>155.743077658</td></tr>\n",
       "<tr><td>J155048.3+400144.9_z0.312</td><td>237.70125</td><td>40.0291388889</td><td>SiIII_z0.31247</td><td>14</td><td>3</td><td>0.0</td><td>-129.0</td><td>188.0</td><td>SiIII</td><td>1</td><td>13.3971588412</td><td>0.0422696694732 .. 0.0422696694732</td><td></td><td>none</td><td>0.312467426062</td><td>J1550+4001_197_23</td><td>108.291553018</td></tr>\n",
       "<tr><td>J225738.2+134045.5_z0.177</td><td>344.409166667</td><td>13.6793055556</td><td>SiIII_z0.17675</td><td>14</td><td>3</td><td>0.0</td><td>-75.0</td><td>92.0</td><td>SiIII</td><td>3</td><td>12.2920057574</td><td>9.0 .. 9.0</td><td></td><td>none</td><td>0.17675049603</td><td>J2257+1340_270_40</td><td>122.147300832</td></tr>\n",
       "<tr><td>J092554.7+400414.1_z0.247</td><td>141.477916667</td><td>40.0705833333</td><td>SiIII_z0.24745</td><td>14</td><td>3</td><td>0.0</td><td>-160.0</td><td>215.0</td><td>SiIII</td><td>2</td><td>13.755260686</td><td>7.55368412675e-13 .. 7.55368412675e-13</td><td></td><td>none</td><td>0.247452750802</td><td>J0925+4004_196_22</td><td>84.628665473</td></tr>\n",
       "<tr><td>J133045.2+281321.5_z0.192</td><td>202.688333333</td><td>28.2226388889</td><td>SiIII_z0.19236</td><td>14</td><td>3</td><td>0.0</td><td>-170.0</td><td>226.0</td><td>SiIII</td><td>1</td><td>13.1930935183</td><td>0.0400036498904 .. 0.0400036498904</td><td></td><td>none</td><td>0.192364767194</td><td>J1330+2813_289_28</td><td>93.145850152</td></tr>\n",
       "<tr><td>J095000.7+483129.4_z0.212</td><td>147.502916667</td><td>48.5248333333</td><td>SiIII_z0.21194</td><td>14</td><td>3</td><td>0.0</td><td>-336.0</td><td>163.0</td><td>SiIII</td><td>2</td><td>13.7406484881</td><td>7.81215799183e-13 .. 7.81215799183e-13</td><td></td><td>none</td><td>0.211935847998</td><td>J0950+4831_177_27</td><td>95.1718069256</td></tr>\n",
       "<tr><td>J101622.6+470643.3_z0.252</td><td>154.094166667</td><td>47.1120277778</td><td>SiIII_z0.25195</td><td>14</td><td>3</td><td>0.0</td><td>-130.0</td><td>356.0</td><td>SiIII</td><td>2</td><td>13.8811695376</td><td>5.65262231045e-13 .. 5.65262231045e-13</td><td></td><td>none</td><td>0.251954734325</td><td>J1016+4706_274_6</td><td>23.6248023469</td></tr>\n",
       "</table>"
      ],
      "text/plain": [
       "<Table masked=True length=44>\n",
       "       abssys_name              RA      ...      cgm_name       rho_impact \n",
       "                               deg      ...                        kpc     \n",
       "          str25              float64    ...       str17          float64   \n",
       "------------------------- ------------- ... ----------------- -------------\n",
       "J101622.6+470643.3_z0.166 154.094166667 ... J1016+4706_359_16 46.3230860579\n",
       "J094331.6+053131.5_z0.228 145.881666667 ... J0943+0531_106_34 125.213206561\n",
       "J143726.1+504555.8_z0.246     219.35875 ... J1437+5045_317_38 146.804136085\n",
       "J141910.2+420746.9_z0.179      214.7925 ... J1419+4207_132_30 92.6211417336\n",
       "J134251.6-005345.3_z0.201       205.715 ...  J1342-0053_77_10 32.4766199825\n",
       "J234500.4-005936.1_z0.254 356.251666667 ... J2345-0059_356_12 48.8755338361\n",
       "J143511.5+360437.2_z0.262 218.797916667 ... J1435+3604_126_21 86.9085194245\n",
       "J094331.6+053131.5_z0.353 145.881666667 ... J0943+0531_227_19 97.1117436511\n",
       "J134251.6-005345.3_z0.227       205.715 ... J1342-0053_157_10  35.560506473\n",
       "                      ...           ... ...               ...           ...\n",
       "J122035.1+385316.4_z0.274     185.14625 ... J1220+3853_225_38 159.423036699\n",
       "J113327.8+032719.2_z0.237 173.365833333 ...  J1133+0327_110_5 17.1918162178\n",
       "  J040149-054056.6_z0.220 60.4541666667 ...  J0401-0540_67_24 86.4954994704\n",
       "J094331.6+053131.5_z0.143 145.881666667 ... J0943+0531_216_61 155.743077658\n",
       "J155048.3+400144.9_z0.312     237.70125 ... J1550+4001_197_23 108.291553018\n",
       "J225738.2+134045.5_z0.177 344.409166667 ... J2257+1340_270_40 122.147300832\n",
       "J092554.7+400414.1_z0.247 141.477916667 ... J0925+4004_196_22  84.628665473\n",
       "J133045.2+281321.5_z0.192 202.688333333 ... J1330+2813_289_28  93.145850152\n",
       "J095000.7+483129.4_z0.212 147.502916667 ... J0950+4831_177_27 95.1718069256\n",
       "J101622.6+470643.3_z0.252 154.094166667 ...  J1016+4706_274_6 23.6248023469"
      ]
     },
     "execution_count": 4,
     "metadata": {},
     "output_type": "execute_result"
    }
   ],
   "source": [
    "SiIII_tbl"
   ]
  },
  {
   "cell_type": "markdown",
   "metadata": {},
   "source": [
    "## EW Table for the Survey for a given transition"
   ]
  },
  {
   "cell_type": "code",
   "execution_count": 5,
   "metadata": {
    "collapsed": true
   },
   "outputs": [],
   "source": [
    "trans = 'SiIII 1206'"
   ]
  },
  {
   "cell_type": "code",
   "execution_count": 6,
   "metadata": {},
   "outputs": [
    {
     "name": "stderr",
     "output_type": "stream",
     "text": [
      "/home/xavier/local/Python/linetools/linetools/isgm/abssystem.py:432: UserWarning: No absline with input=SiIII 1206\n",
      "  warnings.warn(\"No absline with input={}\".format(inp))\n"
     ]
    },
    {
     "data": {
      "text/html": [
       "<i>Table length=44</i>\n",
       "<table id=\"table140047704484832\" class=\"table-striped table-bordered table-condensed\">\n",
       "<thead><tr><th>sys</th><th>z</th><th>flag_EW</th><th>EW</th><th>sig_EW</th><th>flag_N</th><th>logN</th><th>sig_logN</th><th>cgm_name</th></tr></thead>\n",
       "<thead><tr><th>str25</th><th>int64</th><th>int64</th><th>float64</th><th>float64</th><th>int64</th><th>float64</th><th>float64</th><th>str17</th></tr></thead>\n",
       "<tr><td>J101622.6+470643.3_z0.166</td><td>0</td><td>1</td><td>0.785282902625</td><td>0.0366931088475</td><td>2</td><td>13.7450735369</td><td>0.026504965499</td><td>J1016+4706_359_16</td></tr>\n",
       "<tr><td>J094331.6+053131.5_z0.228</td><td>0</td><td>1</td><td>0.14886255231</td><td>0.0358574367941</td><td>1</td><td>12.8929235735</td><td>0.101090468466</td><td>J0943+0531_106_34</td></tr>\n",
       "<tr><td>J143726.1+504555.8_z0.246</td><td>0</td><td>3</td><td>-0.0703141423075</td><td>0.0861266085487</td><td>3</td><td>12.8324415484</td><td>9.0</td><td>J1437+5045_317_38</td></tr>\n",
       "<tr><td>J141910.2+420746.9_z0.179</td><td>0</td><td>1</td><td>0.331764889334</td><td>0.028007051922</td><td>2</td><td>13.2993624011</td><td>0.036640625447</td><td>J1419+4207_132_30</td></tr>\n",
       "<tr><td>J134251.6-005345.3_z0.201</td><td>0</td><td>3</td><td>-0.0439536561491</td><td>0.0305214413134</td><td>3</td><td>12.3784010211</td><td>9.0</td><td>J1342-0053_77_10</td></tr>\n",
       "<tr><td>J234500.4-005936.1_z0.254</td><td>0</td><td>1</td><td>0.211769574863</td><td>0.0241436477878</td><td>0</td><td>13.0512506762</td><td>0.0579742640257</td><td>J2345-0059_356_12</td></tr>\n",
       "<tr><td>J143511.5+360437.2_z0.262</td><td>0</td><td>1</td><td>0.134674618051</td><td>0.0354212239113</td><td>1</td><td>12.8490268984</td><td>0.0965169742703</td><td>J1435+3604_126_21</td></tr>\n",
       "<tr><td>J094331.6+053131.5_z0.353</td><td>0</td><td>3</td><td>-0.0347198927631</td><td>0.130695713527</td><td>3</td><td>12.9781400958</td><td>9.0</td><td>J0943+0531_227_19</td></tr>\n",
       "<tr><td>J134251.6-005345.3_z0.227</td><td>0</td><td>1</td><td>1.10672067823</td><td>0.0269377609504</td><td>2</td><td>13.9903766909</td><td>0.0251168683171</td><td>J1342-0053_157_10</td></tr>\n",
       "<tr><td>J124511.3+335610.1_z0.192</td><td>0</td><td>3</td><td>-0.00343024312461</td><td>0.0270133167392</td><td>3</td><td>12.3365356722</td><td>9.0</td><td>J1245+3356_236_36</td></tr>\n",
       "<tr><td>...</td><td>...</td><td>...</td><td>...</td><td>...</td><td>...</td><td>...</td><td>...</td><td>...</td></tr>\n",
       "<tr><td>J122035.1+385316.4_z0.274</td><td>0</td><td>1</td><td>0.601054229854</td><td>0.0549863249708</td><td>2</td><td>13.5182249346</td><td>0.045126799494</td><td>J1220+3853_225_38</td></tr>\n",
       "<tr><td>J113327.8+032719.2_z0.237</td><td>0</td><td>1</td><td>0.617405066004</td><td>0.0428118584921</td><td>2</td><td>13.6223852435</td><td>0.0385066866875</td><td>J1133+0327_110_5</td></tr>\n",
       "<tr><td>J040149-054056.6_z0.220</td><td>0</td><td>1</td><td>0.158317743378</td><td>0.0206134394617</td><td>1</td><td>12.8839304247</td><td>0.0589624978602</td><td>J0401-0540_67_24</td></tr>\n",
       "<tr><td>J094331.6+053131.5_z0.143</td><td>0</td><td>3</td><td>0.0131155359641</td><td>0.0426632435132</td><td>3</td><td>12.5719415942</td><td>9.0</td><td>J0943+0531_216_61</td></tr>\n",
       "<tr><td>J155048.3+400144.9_z0.312</td><td>0</td><td>1</td><td>0.446800033702</td><td>0.0394924157673</td><td>1</td><td>13.3971588412</td><td>0.0422696694732</td><td>J1550+4001_197_23</td></tr>\n",
       "<tr><td>J225738.2+134045.5_z0.177</td><td>0</td><td>3</td><td>-0.00967157356417</td><td>0.0242158374614</td><td>3</td><td>12.2920057574</td><td>9.0</td><td>J2257+1340_270_40</td></tr>\n",
       "<tr><td>J092554.7+400414.1_z0.247</td><td>0</td><td>1</td><td>0.659247361319</td><td>0.0392895203043</td><td>2</td><td>13.755260686</td><td>0.0369738899171</td><td>J0925+4004_196_22</td></tr>\n",
       "<tr><td>J133045.2+281321.5_z0.192</td><td>0</td><td>1</td><td>0.281665687631</td><td>0.0287238948204</td><td>1</td><td>13.1930935183</td><td>0.0400036498904</td><td>J1330+2813_289_28</td></tr>\n",
       "<tr><td>J095000.7+483129.4_z0.212</td><td>0</td><td>1</td><td>0.692008460624</td><td>0.0380724924651</td><td>2</td><td>13.7406484881</td><td>0.0343280918896</td><td>J0950+4831_177_27</td></tr>\n",
       "<tr><td>J101622.6+470643.3_z0.252</td><td>0</td><td>1</td><td>1.00504791155</td><td>0.0440302826286</td><td>2</td><td>13.8811695376</td><td>0.0298193302006</td><td>J1016+4706_274_6</td></tr>\n",
       "</table>"
      ],
      "text/plain": [
       "<Table length=44>\n",
       "           sys              z   flag_EW ...     sig_logN         cgm_name    \n",
       "          str25           int64  int64  ...     float64           str17      \n",
       "------------------------- ----- ------- ... --------------- -----------------\n",
       "J101622.6+470643.3_z0.166     0       1 ...  0.026504965499 J1016+4706_359_16\n",
       "J094331.6+053131.5_z0.228     0       1 ...  0.101090468466 J0943+0531_106_34\n",
       "J143726.1+504555.8_z0.246     0       3 ...             9.0 J1437+5045_317_38\n",
       "J141910.2+420746.9_z0.179     0       1 ...  0.036640625447 J1419+4207_132_30\n",
       "J134251.6-005345.3_z0.201     0       3 ...             9.0  J1342-0053_77_10\n",
       "J234500.4-005936.1_z0.254     0       1 ... 0.0579742640257 J2345-0059_356_12\n",
       "J143511.5+360437.2_z0.262     0       1 ... 0.0965169742703 J1435+3604_126_21\n",
       "J094331.6+053131.5_z0.353     0       3 ...             9.0 J0943+0531_227_19\n",
       "J134251.6-005345.3_z0.227     0       1 ... 0.0251168683171 J1342-0053_157_10\n",
       "J124511.3+335610.1_z0.192     0       3 ...             9.0 J1245+3356_236_36\n",
       "                      ...   ...     ... ...             ...               ...\n",
       "J122035.1+385316.4_z0.274     0       1 ...  0.045126799494 J1220+3853_225_38\n",
       "J113327.8+032719.2_z0.237     0       1 ... 0.0385066866875  J1133+0327_110_5\n",
       "  J040149-054056.6_z0.220     0       1 ... 0.0589624978602  J0401-0540_67_24\n",
       "J094331.6+053131.5_z0.143     0       3 ...             9.0 J0943+0531_216_61\n",
       "J155048.3+400144.9_z0.312     0       1 ... 0.0422696694732 J1550+4001_197_23\n",
       "J225738.2+134045.5_z0.177     0       3 ...             9.0 J2257+1340_270_40\n",
       "J092554.7+400414.1_z0.247     0       1 ... 0.0369738899171 J0925+4004_196_22\n",
       "J133045.2+281321.5_z0.192     0       1 ... 0.0400036498904 J1330+2813_289_28\n",
       "J095000.7+483129.4_z0.212     0       1 ... 0.0343280918896 J0950+4831_177_27\n",
       "J101622.6+470643.3_z0.252     0       1 ... 0.0298193302006  J1016+4706_274_6"
      ]
     },
     "execution_count": 6,
     "metadata": {},
     "output_type": "execute_result"
    }
   ],
   "source": [
    "tbl = cos_halos.trans_tbl(trans)\n",
    "tbl"
   ]
  },
  {
   "cell_type": "markdown",
   "metadata": {},
   "source": [
    "## NHI Values (Prochaska+17)"
   ]
  },
  {
   "cell_type": "code",
   "execution_count": 7,
   "metadata": {
    "collapsed": true
   },
   "outputs": [],
   "source": [
    "NHI_tbl = Table()\n",
    "NHI_tbl['name'] = cos_halos.name\n",
    "NHI_tbl['NHI'] = cos_halos.NHI\n",
    "NHI_tbl['flag_NHI'] = cos_halos.flag_NHI"
   ]
  },
  {
   "cell_type": "code",
   "execution_count": 8,
   "metadata": {},
   "outputs": [
    {
     "data": {
      "text/html": [
       "<i>Table length=44</i>\n",
       "<table id=\"table140047736210600\" class=\"table-striped table-bordered table-condensed\">\n",
       "<thead><tr><th>name</th><th>NHI</th><th>flag_NHI</th></tr></thead>\n",
       "<thead><tr><th>str17</th><th>float64</th><th>int64</th></tr></thead>\n",
       "<tr><td>J1016+4706_359_16</td><td>17.5</td><td>1</td></tr>\n",
       "<tr><td>J0943+0531_106_34</td><td>16.2441471572</td><td>3</td></tr>\n",
       "<tr><td>J1437+5045_317_38</td><td>14.529999733</td><td>1</td></tr>\n",
       "<tr><td>J1419+4207_132_30</td><td>16.6254180602</td><td>1</td></tr>\n",
       "<tr><td>J1342-0053_77_10</td><td>12.4331159592</td><td>3</td></tr>\n",
       "<tr><td>J2345-0059_356_12</td><td>15.9950122833</td><td>1</td></tr>\n",
       "<tr><td>J1435+3604_126_21</td><td>15.25041008</td><td>1</td></tr>\n",
       "<tr><td>J0943+0531_227_19</td><td>16.6465568774</td><td>3</td></tr>\n",
       "<tr><td>J1342-0053_157_10</td><td>18.5</td><td>1</td></tr>\n",
       "<tr><td>J1245+3356_236_36</td><td>14.7597017288</td><td>1</td></tr>\n",
       "<tr><td>...</td><td>...</td><td>...</td></tr>\n",
       "<tr><td>J1220+3853_225_38</td><td>15.8816986084</td><td>1</td></tr>\n",
       "<tr><td>J1133+0327_110_5</td><td>18.6</td><td>1</td></tr>\n",
       "<tr><td>J0401-0540_67_24</td><td>15.4493122101</td><td>1</td></tr>\n",
       "<tr><td>J0943+0531_216_61</td><td>14.8832654953</td><td>2</td></tr>\n",
       "<tr><td>J1550+4001_197_23</td><td>16.501953125</td><td>1</td></tr>\n",
       "<tr><td>J2257+1340_270_40</td><td>12.5310306549</td><td>3</td></tr>\n",
       "<tr><td>J0925+4004_196_22</td><td>19.5499992371</td><td>1</td></tr>\n",
       "<tr><td>J1330+2813_289_28</td><td>17.0267558528</td><td>1</td></tr>\n",
       "<tr><td>J0950+4831_177_27</td><td>18.2</td><td>1</td></tr>\n",
       "<tr><td>J1016+4706_274_6</td><td>17.0969899666</td><td>1</td></tr>\n",
       "</table>"
      ],
      "text/plain": [
       "<Table length=44>\n",
       "       name            NHI      flag_NHI\n",
       "      str17          float64     int64  \n",
       "----------------- ------------- --------\n",
       "J1016+4706_359_16          17.5        1\n",
       "J0943+0531_106_34 16.2441471572        3\n",
       "J1437+5045_317_38  14.529999733        1\n",
       "J1419+4207_132_30 16.6254180602        1\n",
       " J1342-0053_77_10 12.4331159592        3\n",
       "J2345-0059_356_12 15.9950122833        1\n",
       "J1435+3604_126_21   15.25041008        1\n",
       "J0943+0531_227_19 16.6465568774        3\n",
       "J1342-0053_157_10          18.5        1\n",
       "J1245+3356_236_36 14.7597017288        1\n",
       "              ...           ...      ...\n",
       "J1220+3853_225_38 15.8816986084        1\n",
       " J1133+0327_110_5          18.6        1\n",
       " J0401-0540_67_24 15.4493122101        1\n",
       "J0943+0531_216_61 14.8832654953        2\n",
       "J1550+4001_197_23  16.501953125        1\n",
       "J2257+1340_270_40 12.5310306549        3\n",
       "J0925+4004_196_22 19.5499992371        1\n",
       "J1330+2813_289_28 17.0267558528        1\n",
       "J0950+4831_177_27          18.2        1\n",
       " J1016+4706_274_6 17.0969899666        1"
      ]
     },
     "execution_count": 8,
     "metadata": {},
     "output_type": "execute_result"
    }
   ],
   "source": [
    "NHI_tbl"
   ]
  },
  {
   "cell_type": "markdown",
   "metadata": {},
   "source": [
    "## Metallicity PDF"
   ]
  },
  {
   "cell_type": "markdown",
   "metadata": {},
   "source": [
    "### Load"
   ]
  },
  {
   "cell_type": "code",
   "execution_count": 9,
   "metadata": {},
   "outputs": [
    {
     "name": "stdout",
     "output_type": "stream",
     "text": [
      "No detection for J1437+5045_317_38\n",
      "Skipping\n",
      "No detection for J1342-0053_77_10\n",
      "Skipping\n",
      "Not including 0943+0531_227_19\n",
      "See Prochaska+17 for details\n",
      "No detection for J1133+0327_164_21\n",
      "Skipping\n",
      "No detection for J1157-0022_230_7\n",
      "Skipping\n",
      "No constraint for J1617+0638_253_39\n",
      "Skipping\n",
      "No detection for J1550+4001_97_33\n",
      "Skipping\n",
      "No detection for J1619+3342_113_40\n",
      "Skipping\n",
      "No detection for J0935+0204_15_28\n",
      "Skipping\n",
      "No detection for J0226+0015_268_22\n",
      "Skipping\n",
      "No detection for J1445+3428_232_33\n",
      "Skipping\n",
      "No detection for J0943+0531_216_61\n",
      "Skipping\n",
      "No detection for J2257+1340_270_40\n",
      "Skipping\n"
     ]
    }
   ],
   "source": [
    "cos_halos.load_mtl_pdfs()"
   ]
  },
  {
   "cell_type": "markdown",
   "metadata": {},
   "source": [
    "### Single system"
   ]
  },
  {
   "cell_type": "code",
   "execution_count": 10,
   "metadata": {},
   "outputs": [
    {
     "data": {
      "text/plain": [
       "<CGMAbsSys: J1016+4706_359_16 Galaxy RA/DEC=10:16:22.58+47:06:59.4, zgal=0.166137, rho=46.3231 kpc>"
      ]
     },
     "execution_count": 10,
     "metadata": {},
     "output_type": "execute_result"
    }
   ],
   "source": [
    "j0226 = cos_halos.cgm_abs[0]\n",
    "j0226"
   ]
  },
  {
   "cell_type": "code",
   "execution_count": 11,
   "metadata": {},
   "outputs": [
    {
     "data": {
      "text/plain": [
       "<MetallicityPDF: meanZH=-1.00368>"
      ]
     },
     "execution_count": 11,
     "metadata": {},
     "output_type": "execute_result"
    }
   ],
   "source": [
    "j0226.igm_sys.metallicity"
   ]
  },
  {
   "cell_type": "code",
   "execution_count": 12,
   "metadata": {},
   "outputs": [
    {
     "data": {
      "text/plain": [
       "-1.2345460797799086"
      ]
     },
     "execution_count": 12,
     "metadata": {},
     "output_type": "execute_result"
    }
   ],
   "source": [
    "j0226.igm_sys.metallicity.medianZH"
   ]
  },
  {
   "cell_type": "markdown",
   "metadata": {},
   "source": [
    "### Plot"
   ]
  },
  {
   "cell_type": "code",
   "execution_count": 13,
   "metadata": {},
   "outputs": [
    {
     "data": {
      "image/png": "[encoded data removed]",
      "text/plain": [
       "<matplotlib.figure.Figure at 0x7f5f659d05c0>"
      ]
     },
     "metadata": {},
     "output_type": "display_data"
    }
   ],
   "source": [
    "j0226.igm_sys.metallicity.hist_plot()"
   ]
  },
  {
   "cell_type": "markdown",
   "metadata": {},
   "source": [
    "## $N_{\\rm H}$ PDFs"
   ]
  },
  {
   "cell_type": "markdown",
   "metadata": {},
   "source": [
    "### Load em up\n",
    "    This requires the files in pyigm/data/CGM/COS_Halos/Cloudy have been installed\n",
    "    See the README.md file in pyigm/data/CGM/COS_Halos/ for instructions\n",
    "    And also the pickle file in pyigm/data/CGM/Cloudy  (see the README.md file there for details)"
   ]
  },
  {
   "cell_type": "code",
   "execution_count": 14,
   "metadata": {},
   "outputs": [
    {
     "name": "stderr",
     "output_type": "stream",
     "text": [
      "/home/xavier/local/Python/pyigm/pyigm/metallicity/utils.py:111: UserWarning: Some NHI values are off the grid.  Correcting..\n",
      "  warnings.warn(\"Some NHI values are off the grid.  Correcting..\")\n",
      "/home/xavier/local/Python/pyigm/pyigm/cgm/cos_halos.py:419: UserWarning: One or more NH_values were not finite.  Be careful..\n",
      "  warnings.warn(\"One or more NH_values were not finite.  Be careful..\")\n"
     ]
    }
   ],
   "source": [
    "cos_halos.load_NH_pdfs()"
   ]
  },
  {
   "cell_type": "markdown",
   "metadata": {},
   "source": [
    "### One example"
   ]
  },
  {
   "cell_type": "code",
   "execution_count": 15,
   "metadata": {},
   "outputs": [
    {
     "data": {
      "text/plain": [
       "<GenericPDF: mean=19.9342>"
      ]
     },
     "execution_count": 15,
     "metadata": {},
     "output_type": "execute_result"
    }
   ],
   "source": [
    "cgm_abs = cos_halos.cgm_abs[0]\n",
    "cgm_abs.igm_sys.NH_PDF"
   ]
  },
  {
   "cell_type": "code",
   "execution_count": 16,
   "metadata": {},
   "outputs": [
    {
     "data": {
      "text/plain": [
       "2.3504263052011087e+20"
      ]
     },
     "execution_count": 16,
     "metadata": {},
     "output_type": "execute_result"
    }
   ],
   "source": [
    "cgm_abs.igm_sys.NH_PDF.gmean"
   ]
  },
  {
   "cell_type": "markdown",
   "metadata": {},
   "source": [
    "----"
   ]
  },
  {
   "cell_type": "markdown",
   "metadata": {},
   "source": [
    "## Timing"
   ]
  },
  {
   "cell_type": "code",
   "execution_count": 17,
   "metadata": {
    "collapsed": true
   },
   "outputs": [],
   "source": [
    "import cProfile, profile\n",
    "from pyigm.cgm import cos_halos as pch"
   ]
  },
  {
   "cell_type": "code",
   "execution_count": 18,
   "metadata": {},
   "outputs": [],
   "source": [
    "#reload(pch)\n",
    "#profile.run('ch = pch.COSHalos(debug=True)')\n",
    "#ch = pch.COSHalos(debug=True)\n",
    "#cProfile.run('ch = pch.COSHalos()')\n",
    "#%prun -s cumtime 'pch.cosHalos(debug=True)'"
   ]
  },
  {
   "cell_type": "code",
   "execution_count": null,
   "metadata": {
    "collapsed": true
   },
   "outputs": [],
   "source": []
  }
 ],
 "metadata": {
  "kernelspec": {
   "display_name": "Python 3",
   "language": "python",
   "name": "python3"
  },
  "language_info": {
   "codemirror_mode": {
    "name": "ipython",
    "version": 3
   },
   "file_extension": ".py",
   "mimetype": "text/x-python",
   "name": "python",
   "nbconvert_exporter": "python",
   "pygments_lexer": "ipython3",
   "version": "3.6.3"
  }
 },
 "nbformat": 4,
 "nbformat_minor": 1
}
