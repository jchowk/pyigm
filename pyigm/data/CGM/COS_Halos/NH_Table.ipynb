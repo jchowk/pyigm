{
 "cells": [
  {
   "cell_type": "markdown",
   "metadata": {},
   "source": [
    "# NH Table for Andrea"
   ]
  },
  {
   "cell_type": "code",
   "execution_count": 15,
   "metadata": {
    "collapsed": true
   },
   "outputs": [],
   "source": [
    "# imports\n",
    "import numpy as np\n",
    "from astropy.table import Table\n",
    "\n",
    "from pyigm.cgm.cos_halos import COSHalos"
   ]
  },
  {
   "cell_type": "markdown",
   "metadata": {},
   "source": [
    "## Load up"
   ]
  },
  {
   "cell_type": "code",
   "execution_count": 2,
   "metadata": {},
   "outputs": [
    {
     "name": "stdout",
     "output_type": "stream",
     "text": [
      "read_sets: Using set file -- \n",
      "  /home/xavier/local/Python/linetools/linetools/lists/sets/llist_v1.2.ascii\n",
      "Loading abundances from Asplund2009\n",
      "Abundances are relative by number on a logarithmic scale with H=12\n",
      "Be patient, using /home/xavier/local/Python/pyigm/pyigm/data/CGM/COS_Halos/cos-halos_systems.v1.2.tar.gz to load\n",
      "Skipping a likely folder: CGM_JSON\n"
     ]
    }
   ],
   "source": [
    "chalos = COSHalos()"
   ]
  },
  {
   "cell_type": "code",
   "execution_count": 3,
   "metadata": {},
   "outputs": [
    {
     "name": "stderr",
     "output_type": "stream",
     "text": [
      "/home/xavier/local/Python/pyigm/pyigm/metallicity/utils.py:111: UserWarning: Some NHI values are off the grid.  Correcting..\n",
      "  warnings.warn(\"Some NHI values are off the grid.  Correcting..\")\n",
      "/home/xavier/local/Python/pyigm/pyigm/cgm/cos_halos.py:419: UserWarning: One or more NH_values were not finite.  Be careful..\n",
      "  warnings.warn(\"One or more NH_values were not finite.  Be careful..\")\n"
     ]
    }
   ],
   "source": [
    "chalos.load_NH_pdfs()"
   ]
  },
  {
   "cell_type": "markdown",
   "metadata": {},
   "source": [
    "## Table me"
   ]
  },
  {
   "cell_type": "code",
   "execution_count": 47,
   "metadata": {
    "collapsed": true
   },
   "outputs": [],
   "source": [
    "tbl = Table()\n",
    "tbl['name'] = chalos.name\n",
    "tbl['z'] = chalos.z\n",
    "tbl['rho'] = chalos.rho"
   ]
  },
  {
   "cell_type": "markdown",
   "metadata": {},
   "source": [
    "### NH "
   ]
  },
  {
   "cell_type": "code",
   "execution_count": 48,
   "metadata": {},
   "outputs": [],
   "source": [
    "tbl['medianNH'] = 0.\n",
    "tbl['sigNH'] = 0.\n",
    "tbl['gmeanNH'] = 0."
   ]
  },
  {
   "cell_type": "code",
   "execution_count": 49,
   "metadata": {},
   "outputs": [],
   "source": [
    "for kk,cgm_abs in enumerate(chalos.cgm_abs):\n",
    "    if cgm_abs.igm_sys.NH_PDF is None:\n",
    "        continue\n",
    "    # Fill in\n",
    "    tbl['medianNH'][kk] = cgm_abs.igm_sys.NH_PDF.median\n",
    "    tbl['sigNH'][kk] = np.mean(np.abs(np.array(cgm_abs.igm_sys.NH_PDF.confidence_limits(0.68))-cgm_abs.igm_sys.NH_PDF.median)) # Kludgy\n",
    "    tbl['gmeanNH'][kk] = cgm_abs.igm_sys.NH_PDF.gmean"
   ]
  },
  {
   "cell_type": "code",
   "execution_count": 50,
   "metadata": {},
   "outputs": [
    {
     "data": {
      "text/html": [
       "<i>Table length=44</i>\n",
       "<table id=\"table139678783113256\" class=\"table-striped table-bordered table-condensed\">\n",
       "<thead><tr><th>name</th><th>z</th><th>rho</th><th>medianNH</th><th>sigNH</th><th>gmeanNH</th></tr></thead>\n",
       "<thead><tr><th></th><th></th><th>kpc</th><th></th><th></th><th></th></tr></thead>\n",
       "<thead><tr><th>str17</th><th>float64</th><th>float64</th><th>float64</th><th>float64</th><th>float64</th></tr></thead>\n",
       "<tr><td>J1016+4706_359_16</td><td>0.166137129068</td><td>46.3230860579</td><td>19.9960458241</td><td>0.799097555027</td><td>2.3368847036e+20</td></tr>\n",
       "<tr><td>J0943+0531_106_34</td><td>0.228385850787</td><td>125.213206561</td><td>18.4272850189</td><td>0.646804853163</td><td>1.77665842981e+19</td></tr>\n",
       "<tr><td>J1437+5045_317_38</td><td>0.245999068022</td><td>146.804136085</td><td>0.0</td><td>0.0</td><td>0.0</td></tr>\n",
       "<tr><td>J1419+4207_132_30</td><td>0.179248124361</td><td>92.6211417336</td><td>18.7529455081</td><td>0.243476987878</td><td>7.59128849805e+18</td></tr>\n",
       "<tr><td>J1342-0053_77_10</td><td>0.201268032193</td><td>32.4766199825</td><td>0.0</td><td>0.0</td><td>0.0</td></tr>\n",
       "<tr><td>J2345-0059_356_12</td><td>0.253890156746</td><td>48.8755338361</td><td>18.5015749337</td><td>0.204555266964</td><td>3.88490404264e+18</td></tr>\n",
       "<tr><td>J1435+3604_126_21</td><td>0.262260317802</td><td>86.9085194245</td><td>17.8177146721</td><td>0.378067360766</td><td>9.70321275999e+17</td></tr>\n",
       "<tr><td>J0943+0531_227_19</td><td>0.352951705456</td><td>97.1117436511</td><td>0.0</td><td>0.0</td><td>0.0</td></tr>\n",
       "<tr><td>J1342-0053_157_10</td><td>0.227016583085</td><td>35.560506473</td><td>19.6052428256</td><td>0.164030997563</td><td>4.85269354881e+19</td></tr>\n",
       "<tr><td>...</td><td>...</td><td>...</td><td>...</td><td>...</td><td>...</td></tr>\n",
       "<tr><td>J1220+3853_225_38</td><td>0.27371302247</td><td>159.423036699</td><td>18.3997762148</td><td>0.397654461033</td><td>3.72138126162e+18</td></tr>\n",
       "<tr><td>J1133+0327_110_5</td><td>0.236700639129</td><td>17.1918162178</td><td>20.1232815965</td><td>0.269296808349</td><td>1.81051366255e+20</td></tr>\n",
       "<tr><td>J0401-0540_67_24</td><td>0.21968537569</td><td>86.4954994704</td><td>18.0258761483</td><td>0.366379803131</td><td>1.56124489472e+18</td></tr>\n",
       "<tr><td>J0943+0531_216_61</td><td>0.14311170578</td><td>155.743077658</td><td>0.0</td><td>0.0</td><td>0.0</td></tr>\n",
       "<tr><td>J1550+4001_197_23</td><td>0.312467426062</td><td>108.291553018</td><td>18.4242734123</td><td>0.161860754622</td><td>3.19026412173e+18</td></tr>\n",
       "<tr><td>J2257+1340_270_40</td><td>0.17675049603</td><td>122.147300832</td><td>0.0</td><td>0.0</td><td>0.0</td></tr>\n",
       "<tr><td>J0925+4004_196_22</td><td>0.247452750802</td><td>84.628665473</td><td>21.1934972678</td><td>0.323895812931</td><td>2.15785095458e+21</td></tr>\n",
       "<tr><td>J1330+2813_289_28</td><td>0.192364767194</td><td>93.145850152</td><td>18.564960182</td><td>0.171255161353</td><td>4.4402882995e+18</td></tr>\n",
       "<tr><td>J0950+4831_177_27</td><td>0.211935847998</td><td>95.1718069256</td><td>19.6043551797</td><td>0.249802617396</td><td>5.45178716145e+19</td></tr>\n",
       "<tr><td>J1016+4706_274_6</td><td>0.251954734325</td><td>23.6248023469</td><td>19.2831939281</td><td>0.190457742887</td><td>2.34751249259e+19</td></tr>\n",
       "</table>"
      ],
      "text/plain": [
       "<Table length=44>\n",
       "       name             z        ...     sigNH           gmeanNH     \n",
       "                                 ...                                 \n",
       "      str17          float64     ...    float64          float64     \n",
       "----------------- -------------- ... -------------- -----------------\n",
       "J1016+4706_359_16 0.166137129068 ... 0.799097555027  2.3368847036e+20\n",
       "J0943+0531_106_34 0.228385850787 ... 0.646804853163 1.77665842981e+19\n",
       "J1437+5045_317_38 0.245999068022 ...            0.0               0.0\n",
       "J1419+4207_132_30 0.179248124361 ... 0.243476987878 7.59128849805e+18\n",
       " J1342-0053_77_10 0.201268032193 ...            0.0               0.0\n",
       "J2345-0059_356_12 0.253890156746 ... 0.204555266964 3.88490404264e+18\n",
       "J1435+3604_126_21 0.262260317802 ... 0.378067360766 9.70321275999e+17\n",
       "J0943+0531_227_19 0.352951705456 ...            0.0               0.0\n",
       "J1342-0053_157_10 0.227016583085 ... 0.164030997563 4.85269354881e+19\n",
       "              ...            ... ...            ...               ...\n",
       "J1220+3853_225_38  0.27371302247 ... 0.397654461033 3.72138126162e+18\n",
       " J1133+0327_110_5 0.236700639129 ... 0.269296808349 1.81051366255e+20\n",
       " J0401-0540_67_24  0.21968537569 ... 0.366379803131 1.56124489472e+18\n",
       "J0943+0531_216_61  0.14311170578 ...            0.0               0.0\n",
       "J1550+4001_197_23 0.312467426062 ... 0.161860754622 3.19026412173e+18\n",
       "J2257+1340_270_40  0.17675049603 ...            0.0               0.0\n",
       "J0925+4004_196_22 0.247452750802 ... 0.323895812931 2.15785095458e+21\n",
       "J1330+2813_289_28 0.192364767194 ... 0.171255161353  4.4402882995e+18\n",
       "J0950+4831_177_27 0.211935847998 ... 0.249802617396 5.45178716145e+19\n",
       " J1016+4706_274_6 0.251954734325 ... 0.190457742887 2.34751249259e+19"
      ]
     },
     "execution_count": 50,
     "metadata": {},
     "output_type": "execute_result"
    }
   ],
   "source": [
    "tbl"
   ]
  },
  {
   "cell_type": "code",
   "execution_count": 51,
   "metadata": {
    "collapsed": true
   },
   "outputs": [],
   "source": [
    "# Sort\n",
    "tbl.sort('name')"
   ]
  },
  {
   "cell_type": "markdown",
   "metadata": {},
   "source": [
    "### Write"
   ]
  },
  {
   "cell_type": "code",
   "execution_count": 52,
   "metadata": {
    "collapsed": true
   },
   "outputs": [],
   "source": [
    "for key in tbl.keys():\n",
    "    if key in ['name', 'gmeanNH']:\n",
    "        continue\n",
    "    #\n",
    "    tbl[key].format = '0.3f'"
   ]
  },
  {
   "cell_type": "code",
   "execution_count": 53,
   "metadata": {
    "collapsed": true
   },
   "outputs": [],
   "source": [
    "tbl.write('COS-Halos_NH.dat', format='ascii', overwrite=True)"
   ]
  },
  {
   "cell_type": "code",
   "execution_count": null,
   "metadata": {
    "collapsed": true
   },
   "outputs": [],
   "source": []
  }
 ],
 "metadata": {
  "kernelspec": {
   "display_name": "Python 3",
   "language": "python",
   "name": "python3"
  },
  "language_info": {
   "codemirror_mode": {
    "name": "ipython",
    "version": 3
   },
   "file_extension": ".py",
   "mimetype": "text/x-python",
   "name": "python",
   "nbconvert_exporter": "python",
   "pygments_lexer": "ipython3",
   "version": "3.6.3"
  }
 },
 "nbformat": 4,
 "nbformat_minor": 2
}
